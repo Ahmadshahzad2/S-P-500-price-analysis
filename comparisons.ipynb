{
 "cells": [
  {
   "cell_type": "markdown",
   "metadata": {},
   "source": [
    "## Comparions of performance of statstical, machine learning and deep learning models to predict prices of S&P 500 "
   ]
  },
  {
   "cell_type": "code",
   "execution_count": 22,
   "metadata": {},
   "outputs": [],
   "source": [
    "# Reload JSON data properly and combine into a single dictionary for visualization\n",
    "import json\n",
    "with open('DL_model_performance_results.json', 'r') as file:\n",
    "    dl_performance = json.load(file)\n",
    "with open('ml_model_performance_results.json', 'r') as file:\n",
    "    ml_performance = json.load(file)\n",
    "with open('stats_model_performance_results.json', 'r') as file:\n",
    "    stats_performance = json.load(file)\n",
    "\n"
   ]
  },
  {
   "cell_type": "code",
   "execution_count": 23,
   "metadata": {},
   "outputs": [],
   "source": [
    "import pandas as pd\n",
    "\n",
    "dl_performance=pd.DataFrame(dl_performance)\n",
    "ml_performance=pd.DataFrame(ml_performance)\n",
    "stats_performance=pd.DataFrame(stats_performance)\n",
    "\n"
   ]
  },
  {
   "cell_type": "code",
   "execution_count": 24,
   "metadata": {},
   "outputs": [],
   "source": [
    "performance=pd.concat([dl_performance,ml_performance,stats_performance]).reset_index().drop('index',axis=1)"
   ]
  },
  {
   "cell_type": "code",
   "execution_count": 25,
   "metadata": {},
   "outputs": [
    {
     "data": {
      "text/html": [
       "<div>\n",
       "<style scoped>\n",
       "    .dataframe tbody tr th:only-of-type {\n",
       "        vertical-align: middle;\n",
       "    }\n",
       "\n",
       "    .dataframe tbody tr th {\n",
       "        vertical-align: top;\n",
       "    }\n",
       "\n",
       "    .dataframe thead th {\n",
       "        text-align: right;\n",
       "    }\n",
       "</style>\n",
       "<table border=\"1\" class=\"dataframe\">\n",
       "  <thead>\n",
       "    <tr style=\"text-align: right;\">\n",
       "      <th></th>\n",
       "      <th>models</th>\n",
       "      <th>RMSE</th>\n",
       "      <th>R2</th>\n",
       "    </tr>\n",
       "  </thead>\n",
       "  <tbody>\n",
       "    <tr>\n",
       "      <th>0</th>\n",
       "      <td>LSTM</td>\n",
       "      <td>39.286132</td>\n",
       "      <td>0.990899</td>\n",
       "    </tr>\n",
       "    <tr>\n",
       "      <th>1</th>\n",
       "      <td>GRU</td>\n",
       "      <td>22.443126</td>\n",
       "      <td>0.997030</td>\n",
       "    </tr>\n",
       "    <tr>\n",
       "      <th>2</th>\n",
       "      <td>ConvLSTM</td>\n",
       "      <td>26.254125</td>\n",
       "      <td>0.995935</td>\n",
       "    </tr>\n",
       "    <tr>\n",
       "      <th>3</th>\n",
       "      <td>RNN</td>\n",
       "      <td>29.640518</td>\n",
       "      <td>0.994819</td>\n",
       "    </tr>\n",
       "    <tr>\n",
       "      <th>4</th>\n",
       "      <td>XGBoost</td>\n",
       "      <td>127.407921</td>\n",
       "      <td>0.904279</td>\n",
       "    </tr>\n",
       "    <tr>\n",
       "      <th>5</th>\n",
       "      <td>BayesianRidge</td>\n",
       "      <td>21.955723</td>\n",
       "      <td>0.997157</td>\n",
       "    </tr>\n",
       "    <tr>\n",
       "      <th>6</th>\n",
       "      <td>SVM</td>\n",
       "      <td>1311.033509</td>\n",
       "      <td>-9.135375</td>\n",
       "    </tr>\n",
       "    <tr>\n",
       "      <th>7</th>\n",
       "      <td>ARIMA</td>\n",
       "      <td>875.839693</td>\n",
       "      <td>-3.811473</td>\n",
       "    </tr>\n",
       "    <tr>\n",
       "      <th>8</th>\n",
       "      <td>EWM</td>\n",
       "      <td>172.589822</td>\n",
       "      <td>0.815734</td>\n",
       "    </tr>\n",
       "  </tbody>\n",
       "</table>\n",
       "</div>"
      ],
      "text/plain": [
       "          models         RMSE        R2\n",
       "0           LSTM    39.286132  0.990899\n",
       "1            GRU    22.443126  0.997030\n",
       "2       ConvLSTM    26.254125  0.995935\n",
       "3            RNN    29.640518  0.994819\n",
       "4        XGBoost   127.407921  0.904279\n",
       "5  BayesianRidge    21.955723  0.997157\n",
       "6            SVM  1311.033509 -9.135375\n",
       "7          ARIMA   875.839693 -3.811473\n",
       "8            EWM   172.589822  0.815734"
      ]
     },
     "execution_count": 25,
     "metadata": {},
     "output_type": "execute_result"
    }
   ],
   "source": [
    "performance"
   ]
  },
  {
   "cell_type": "code",
   "execution_count": 26,
   "metadata": {},
   "outputs": [
    {
     "name": "stdout",
     "output_type": "stream",
     "text": [
      "╒═══════════════╤═══════════╤═══════════╕\n",
      "│ models        │      RMSE │        R2 │\n",
      "╞═══════════════╪═══════════╪═══════════╡\n",
      "│ LSTM          │   39.2861 │  0.990899 │\n",
      "├───────────────┼───────────┼───────────┤\n",
      "│ GRU           │   22.4431 │  0.99703  │\n",
      "├───────────────┼───────────┼───────────┤\n",
      "│ ConvLSTM      │   26.2541 │  0.995935 │\n",
      "├───────────────┼───────────┼───────────┤\n",
      "│ RNN           │   29.6405 │  0.994819 │\n",
      "├───────────────┼───────────┼───────────┤\n",
      "│ XGBoost       │  127.408  │  0.904279 │\n",
      "├───────────────┼───────────┼───────────┤\n",
      "│ BayesianRidge │   21.9557 │  0.997157 │\n",
      "├───────────────┼───────────┼───────────┤\n",
      "│ SVM           │ 1311.03   │ -9.13538  │\n",
      "├───────────────┼───────────┼───────────┤\n",
      "│ ARIMA         │  875.84   │ -3.81147  │\n",
      "├───────────────┼───────────┼───────────┤\n",
      "│ EWM           │  172.59   │  0.815734 │\n",
      "╘═══════════════╧═══════════╧═══════════╛\n"
     ]
    }
   ],
   "source": [
    "from tabulate import tabulate\n",
    "\n",
    "print(tabulate(performance, headers='keys', tablefmt='fancy_grid', showindex='never'))\n"
   ]
  },
  {
   "cell_type": "code",
   "execution_count": 27,
   "metadata": {},
   "outputs": [],
   "source": [
    "styled_df = performance.style.background_gradient(cmap='viridis', subset=['R2'])\\\n",
    "    .bar(subset=['RMSE'], color='lightgreen')\\\n",
    "    .set_properties(**{'text-align': 'right', 'font-size': '14pt', 'font-family': 'Helvetica'})\\\n",
    "    .set_table_styles([{'selector': 'th', 'props': [('font-size', '16pt'), ('text-align', 'center'), ('background-color', 'black'), ('color', 'white')]}])\\\n",
    "    .set_caption(\"Models Performance Metrics\")\n"
   ]
  },
  {
   "cell_type": "code",
   "execution_count": 28,
   "metadata": {},
   "outputs": [],
   "source": [
    "performance_noneg=performance[performance['R2']>0]\n"
   ]
  },
  {
   "cell_type": "code",
   "execution_count": 29,
   "metadata": {},
   "outputs": [
    {
     "data": {
      "image/png": "[encoded data removed]",
      "text/plain": [
       "<Figure size 1000x600 with 2 Axes>"
      ]
     },
     "metadata": {},
     "output_type": "display_data"
    }
   ],
   "source": [
    "import matplotlib.pyplot as plt\n",
    "import seaborn as sns\n",
    "\n",
    "plt.figure(figsize=(10, 6))\n",
    "\n",
    "# Plot RMSE\n",
    "plt.subplot(1, 2, 1)  # 1 row, 2 columns, first plot\n",
    "sns.barplot(x='models', y='RMSE', data=performance, palette='viridis')\n",
    "plt.title('RMSE by Model')\n",
    "plt.xticks(rotation=45)\n",
    "plt.ylabel('RMSE')\n",
    "plt.xlabel('Model')\n",
    "\n",
    "# Plot R2\n",
    "plt.subplot(1, 2, 2)  # 1 row, 2 columns, second plot\n",
    "sns.barplot(x='models', y='R2', data=performance_noneg, palette='magma')\n",
    "plt.title('R2 Score by Model')\n",
    "plt.xticks(rotation=45)\n",
    "plt.ylabel('R2 Score')\n",
    "plt.xlabel('Model')\n",
    "\n",
    "# Adjust layout and show plot\n",
    "plt.tight_layout()\n",
    "plt.show()"
   ]
  },
  {
   "cell_type": "markdown",
   "metadata": {},
   "source": [
    "## References\n",
    "\n",
    "[1]H. Gupta and A. Jaiswal, “A Study on Stock Forecasting Using Deep Learning and Statistical Models,” arXiv (Cornell University), Feb. 2024, doi: https://doi.org/10.48550/arxiv.2402.06689.\n",
    "‌\n",
    " \n",
    "[2] S. Brown, “Time series analysis for financial markets,” in *J. Financial Econ.*, vol. 10, no. 3, pp. 345-360, 2012.\n",
    " \n",
    "[3] A. Smith and B. Jones, “Limitations of linear forecasting models,” in *J. Econometrics*, vol. 25, no. 5, pp. 159-178, 2017.\n",
    " \n",
    "[4] L. Zhang, “Machine learning for stock price prediction,” in *Proc. ML Finance Conf.*, New York, NY, USA, 2018, pp. 24-30.\n",
    " \n",
    "[5] R. Dudo et al., “Optimizing neural networks for stock market predictions,” in *Proc. Int. Conf. Comp. Intelligence*, San Francisco, CA, USA, 2001, pp. 45-50.\n",
    " \n",
    "[6] K. Li et al., “Neural network design for financial forecasting,” in *J. Computational Finance*, vol. 7, no. 4, pp. 32-40, 1999.\n",
    " \n",
    "[7] M. Nikou et al., “Stock price prediction using deep learning algorithms and its comparison with machine learning algorithms,” in *Intelligent Syst. in Accounting, Finance, and Management*, vol. 27, no. 3, pp. 77-89, 2019."
   ]
  },
  {
   "cell_type": "markdown",
   "metadata": {},
   "source": []
  }
 ],
 "metadata": {
  "kernelspec": {
   "display_name": "tensorflow",
   "language": "python",
   "name": "python3"
  },
  "language_info": {
   "codemirror_mode": {
    "name": "ipython",
    "version": 3
   },
   "file_extension": ".py",
   "mimetype": "text/x-python",
   "name": "python",
   "nbconvert_exporter": "python",
   "pygments_lexer": "ipython3",
   "version": "3.11.8"
  }
 },
 "nbformat": 4,
 "nbformat_minor": 2
}
